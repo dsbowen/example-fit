{
 "cells": [
  {
   "cell_type": "markdown",
   "metadata": {},
   "source": [
    "# ExampleFit\n",
    "\n",
    "ExampleFit is an explanation method which explains observations' predicted outcomes by their proximity to example data points.\n",
    "\n",
    "It transforms a feature space $X$ into a weighting space $W$, where $W_{ij}$ is the weight observation $i$ attaches to example $j$. Weights are normalized such that all $0 < W_{ij} < 1$, and $\\sum_j W_{ij}=1$ for all $i$. The more similar observation $i$ and example $j$, the closer $W_{ij}$ is to 1. \n",
    "\n",
    "The standard use is to fit a linear model (with no intercept) on the weight space.\n",
    "\n",
    "We interpret ExampleFit as follows: The more similar observation $i$ and example $j$, the closer the prediction $f(x_i)$ is to $\\beta_j$.\n",
    "\n",
    "**Cons**. Because ExampleFit involves stocasticity, you may need to run it a few times before it chooses a sensible set of examples. It also does not guarantee local fidelity."
   ]
  },
  {
   "cell_type": "code",
   "execution_count": 1,
   "metadata": {},
   "outputs": [],
   "source": [
    "from example_fit import ExampleFit\n",
    "\n",
    "import matplotlib.pyplot as plt\n",
    "from sklearn.datasets import load_diabetes\n",
    "from sklearn.decomposition import PCA\n",
    "from sklearn.linear_model import LinearRegression, ElasticNetCV\n",
    "from sklearn.metrics import r2_score\n",
    "from sklearn.model_selection import train_test_split\n",
    "from sklearn.preprocessing import StandardScaler"
   ]
  },
  {
   "cell_type": "markdown",
   "metadata": {},
   "source": [
    "Preprocessing."
   ]
  },
  {
   "cell_type": "code",
   "execution_count": 2,
   "metadata": {},
   "outputs": [],
   "source": [
    "X, y = load_diabetes(return_X_y=True)\n",
    "X_train, X_test, y_train, y_test = train_test_split(X, y)\n",
    "scaler = StandardScaler()\n",
    "X_train = scaler.fit_transform(X_train)\n",
    "X_test = scaler.transform(X_test)"
   ]
  },
  {
   "cell_type": "markdown",
   "metadata": {},
   "source": [
    "Use and performance."
   ]
  },
  {
   "cell_type": "code",
   "execution_count": 3,
   "metadata": {},
   "outputs": [
    {
     "name": "stdout",
     "output_type": "stream",
     "text": [
      "Number of examples selected: 10\n",
      "Examples score: 0.4984\n",
      "Train score: 0.4932\n",
      "Test score: 0.4612\n"
     ]
    }
   ],
   "source": [
    "reg = ExampleFit(model=LinearRegression(fit_intercept=False))\n",
    "reg.fit_validate(X_train, y_train, max_examples=10)\n",
    "print('Number of examples selected: %i' % reg.examples_X.shape[0])\n",
    "print('Examples score: %.4f' % r2_score(reg.examples_y, reg.predict(reg.examples_X)))\n",
    "print('Train score: %.4f' % r2_score(y_train, reg.predict(X_train)))\n",
    "print('Test score: %.4f' % r2_score(y_test, reg.predict(X_test)))"
   ]
  },
  {
   "cell_type": "markdown",
   "metadata": {},
   "source": [
    "Comparison to elastic net. Note that ExampleFit has comparable performance using only a few examples and none of the original features."
   ]
  },
  {
   "cell_type": "code",
   "execution_count": 4,
   "metadata": {},
   "outputs": [
    {
     "name": "stdout",
     "output_type": "stream",
     "text": [
      "ElasticNet train score: 0.5146\n",
      "ElasticNet test score: 0.4442\n"
     ]
    }
   ],
   "source": [
    "elastic_net = ElasticNetCV().fit(X_train, y_train)\n",
    "print('ElasticNet train score: %.4f' % elastic_net.score(X_train, y_train))\n",
    "print('ElasticNet test score: %.4f' % elastic_net.score(X_test, y_test))"
   ]
  },
  {
   "cell_type": "markdown",
   "metadata": {},
   "source": [
    "Interpretation.\n",
    "\n",
    "Here we take an observation $x_i$ from the test data set and predict the value of the target $y_i$. We find the example $j$ to which it is most similar, the weight $w_{ij}$ it assigns to that example, and the coefficient $\\beta_j$ on that example.\n",
    "\n",
    "The closer $x_i$ is to example $j$, the closer the prediction $f(x_i)$ to $\\beta_j$."
   ]
  },
  {
   "cell_type": "code",
   "execution_count": 5,
   "metadata": {},
   "outputs": [
    {
     "name": "stdout",
     "output_type": "stream",
     "text": [
      "Predicted value of y: 86.4775\n",
      "x is most similar to example 6 with weight 0.4162\n",
      "The coefficient on example 6 is 58.3001\n"
     ]
    }
   ],
   "source": [
    "observation = 0\n",
    "\n",
    "x = X_test[observation,:].reshape(1,-1)\n",
    "w = reg.compute_weight(x)\n",
    "example = w.argmax()\n",
    "print('Predicted value of y: %.4f' % reg.predict(x)[0])\n",
    "print('x is most similar to example %i with weight %.4f' % (example, w.max()))\n",
    "print('The coefficient on example %i is %.4f' % (example, reg.model.coef_[example]))"
   ]
  },
  {
   "cell_type": "markdown",
   "metadata": {},
   "source": [
    "Visualize where the examples fall with respect to the first two principal components."
   ]
  },
  {
   "cell_type": "code",
   "execution_count": 6,
   "metadata": {},
   "outputs": [
    {
     "data": {
      "text/plain": [
       "<matplotlib.collections.PathCollection at 0x7f8ebf5dd2e8>"
      ]
     },
     "execution_count": 6,
     "metadata": {},
     "output_type": "execute_result"
    },
    {
     "data": {
      "image/png": "[encoded data removed]",
      "text/plain": [
       "<Figure size 432x288 with 1 Axes>"
      ]
     },
     "metadata": {
      "needs_background": "light"
     },
     "output_type": "display_data"
    }
   ],
   "source": [
    "X_scaled = StandardScaler().fit_transform(X)\n",
    "pca = PCA(n_components=2).fit(X_scaled)\n",
    "X_pc = pca.transform(X_scaled)\n",
    "example_pc = pca.transform(reg.examples_X)\n",
    "\n",
    "plt.scatter(X_pc[:,0], X_pc[:,1])\n",
    "plt.scatter(example_pc[:,0], example_pc[:,1], c='r')"
   ]
  },
  {
   "cell_type": "code",
   "execution_count": null,
   "metadata": {},
   "outputs": [],
   "source": []
  }
 ],
 "metadata": {
  "kernelspec": {
   "display_name": "Python 3",
   "language": "python",
   "name": "python3"
  },
  "language_info": {
   "codemirror_mode": {
    "name": "ipython",
    "version": 3
   },
   "file_extension": ".py",
   "mimetype": "text/x-python",
   "name": "python",
   "nbconvert_exporter": "python",
   "pygments_lexer": "ipython3",
   "version": "3.6.8"
  }
 },
 "nbformat": 4,
 "nbformat_minor": 4
}
